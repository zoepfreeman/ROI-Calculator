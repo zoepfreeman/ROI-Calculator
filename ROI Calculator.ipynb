{
 "cells": [
  {
   "cell_type": "code",
   "execution_count": 31,
   "id": "bb7124d9",
   "metadata": {},
   "outputs": [
    {
     "name": "stdout",
     "output_type": "stream",
     "text": [
      "{'income': 2000, 'expenses': 1610, 'cash_flow': 390, 'total_investment': 50000, 'annual_cash_flow': 4680, 'roi': 9.36}\n"
     ]
    }
   ],
   "source": [
    "class simplest_ROI:\n",
    "    def __init__(self,income,expenses,total_investment):\n",
    "        self.income=income\n",
    "        self.expenses=expenses\n",
    "        self.cash_flow=income-expenses\n",
    "        self.total_investment=total_investment\n",
    "        self.annual_cash_flow=self.cash_flow*12\n",
    "        self.roi=(self.annual_cash_flow/self.total_investment)*100\n",
    "        \n",
    "test_house = simplest_ROI(2000,1610,50000)\n",
    "print(test_house.__dict__)"
   ]
  },
  {
   "cell_type": "code",
   "execution_count": 33,
   "id": "216c2e78",
   "metadata": {},
   "outputs": [],
   "source": [
    "class ROI:\n",
    "    def __init__(self):\n",
    "        self.income=float(input('Enter the expected monthly income from this property: '))\n",
    "        self.expenses=float(input('Enter the expected monthly expenses for this property: '))\n",
    "        self.total_investment=float(input('Enter your total investment in this property: '))\n",
    "        self.desired_roi=float(input('Enter your desired Cash on Cash ROI for this property: '))\n",
    "        self.cash_flow=self.income-self.expenses\n",
    "        self.annual_cash_flow=self.cash_flow*12\n",
    "        self.roi=round((self.annual_cash_flow/self.total_investment)*100,2)\n",
    "#testing=new_ROI()\n",
    "#print(testing.__dict__)"
   ]
  },
  {
   "cell_type": "code",
   "execution_count": 34,
   "id": "74b5e72b",
   "metadata": {},
   "outputs": [
    {
     "name": "stdout",
     "output_type": "stream",
     "text": [
      "Enter the expected monthly income from this property: 2000\n",
      "Enter the expected monthly expenses for this property: 1610\n",
      "Enter your desired Cash on Cash ROI for this property: 9\n",
      "Enter your total investment in this property: 50000\n",
      "This property's ROI of 9.36% exceeds your desired ROI of 9.0%.\n",
      "You will begin to profit in about 10.68 years.\n",
      "After one year, you will have a net loss of $45320.0.\n"
     ]
    }
   ],
   "source": [
    "def call_ROI(years=0):\n",
    "    my_property=ROI()\n",
    "    years_before_profit=round(my_property.total_investment/my_property.annual_cash_flow,2)\n",
    "    if my_property.desired_roi<my_property.roi:\n",
    "        print(f\"This property's ROI of {my_property.roi}% exceeds your desired ROI of {my_property.desired_roi}%.\")\n",
    "        print(f\"You will begin to profit in about {years_before_profit} years.\")\n",
    "    elif my_property.desired_roi==my_property.roi:\n",
    "        print(f\"This property's ROI of {my_property.roi}% is equal to your desired ROI of {my_property.desired_roi}%.\")\n",
    "        print(f\"You will begin to profit in about {years_before_profit} years.\")\n",
    "    elif my_property.desired_roi>my_property.roi:\n",
    "        print(f\"This property's ROI of {my_property.roi}% is less than your desired ROI of {my_property.desired_roi}%.\")\n",
    "        print(f\"You will not profit for about {years_before_profit} years.\")\n",
    "    profit=round((my_property.annual_cash_flow*years)-my_property.total_investment,2)\n",
    "    if profit>0:\n",
    "        if years==1:\n",
    "            print(f'After one year, you will see a profit of ${profit}.')\n",
    "        elif years>1:\n",
    "            print(f'After {years} years, you will see a profit of ${profit}')\n",
    "    if profit<0:\n",
    "        abs_profit=profit*(-1)\n",
    "        if years==1:\n",
    "            print(f'After one year, you will have a net loss of ${abs_profit}.')\n",
    "        elif years>1:\n",
    "            print(f'After {years} years, you will a net loss of ${abs_profit}')\n",
    "    \n",
    "call_ROI(1)"
   ]
  },
  {
   "cell_type": "code",
   "execution_count": null,
   "id": "d5fd36ce",
   "metadata": {},
   "outputs": [],
   "source": []
  }
 ],
 "metadata": {
  "kernelspec": {
   "display_name": "Python 3 (ipykernel)",
   "language": "python",
   "name": "python3"
  },
  "language_info": {
   "codemirror_mode": {
    "name": "ipython",
    "version": 3
   },
   "file_extension": ".py",
   "mimetype": "text/x-python",
   "name": "python",
   "nbconvert_exporter": "python",
   "pygments_lexer": "ipython3",
   "version": "3.9.13"
  }
 },
 "nbformat": 4,
 "nbformat_minor": 5
}
